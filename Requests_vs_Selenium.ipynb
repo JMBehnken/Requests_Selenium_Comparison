{
 "cells": [
  {
   "cell_type": "markdown",
   "metadata": {},
   "source": [
    "# Which differences are there between requests and selenium?"
   ]
  },
  {
   "cell_type": "code",
   "execution_count": 1,
   "metadata": {
    "collapsed": true
   },
   "outputs": [],
   "source": [
    "# Import\n",
    "import matplotlib.pyplot as plt\n",
    "from selenium import webdriver\n",
    "from bs4 import BeautifulSoup\n",
    "from tqdm import tqdm\n",
    "import seaborn as sns\n",
    "import pandas as pd\n",
    "import requests\n",
    "import time"
   ]
  },
  {
   "cell_type": "code",
   "execution_count": 2,
   "metadata": {
    "collapsed": true
   },
   "outputs": [],
   "source": [
    "# Get n random wikipedia-pages\n",
    "def wikiURLs(n=50):\n",
    "    random_page = 'https://de.wikipedia.org/wiki/Spezial:Zuf%C3%A4llige_Seite'\n",
    "    links = [BeautifulSoup(requests.get(random_page).text, 'lxml').find('link', {'rel':'canonical'})['href'] for _ in range(n)]\n",
    "    \n",
    "    return links"
   ]
  },
  {
   "cell_type": "code",
   "execution_count": 3,
   "metadata": {
    "collapsed": true
   },
   "outputs": [],
   "source": [
    "# Get the linked pages on the main url\n",
    "def getLinks(url):\n",
    "    urls = [url['href'] for url in BeautifulSoup(requests.get(url).text, 'lxml').findAll('a') if 'href' in url.attrs and url['href'].startswith('http')][:100]\n",
    "    \n",
    "    return urls"
   ]
  },
  {
   "cell_type": "code",
   "execution_count": 4,
   "metadata": {
    "collapsed": true
   },
   "outputs": [],
   "source": [
    "# Load all urls with requests and selenium, save the duration and return a DataFrame\n",
    "def testLinks(urls, page):\n",
    "    data = []\n",
    "    \n",
    "    # requests\n",
    "    r_start = time.time()\n",
    "    for url in tqdm(urls):\n",
    "        response = requests.get(url)\n",
    "    r_end = time.time()\n",
    "    data.append([r_end-r_start, 'requests', page, len(urls)])\n",
    "    \n",
    "    # selenium\n",
    "    s_start = time.time()\n",
    "    driver = webdriver.Firefox()\n",
    "    for url in tqdm(urls):\n",
    "        driver.get(url)\n",
    "    driver.close()\n",
    "    s_end = time.time()\n",
    "    data.append([s_end-s_start, 'selenium', page, len(urls)])\n",
    "    \n",
    "    df = pd.DataFrame(data, columns=['Duration', 'Package', 'Page', 'Page_Count'])\n",
    "    \n",
    "    return df"
   ]
  },
  {
   "cell_type": "code",
   "execution_count": 5,
   "metadata": {
    "collapsed": true
   },
   "outputs": [],
   "source": [
    "# Store all DataFrames\n",
    "dfs = []"
   ]
  },
  {
   "cell_type": "markdown",
   "metadata": {},
   "source": [
    "Test the packages with different Domains/URLs"
   ]
  },
  {
   "cell_type": "code",
   "execution_count": 6,
   "metadata": {},
   "outputs": [
    {
     "name": "stderr",
     "output_type": "stream",
     "text": [
      "100%|██████████| 100/100 [00:20<00:00,  5.09it/s]\n",
      "100%|██████████| 100/100 [02:58<00:00,  1.64s/it]\n"
     ]
    }
   ],
   "source": [
    "wiki_urls = wikiURLs(n=100)\n",
    "dfs.append(testLinks(wiki_urls, 'Wikipedia'))"
   ]
  },
  {
   "cell_type": "code",
   "execution_count": 7,
   "metadata": {},
   "outputs": [
    {
     "name": "stderr",
     "output_type": "stream",
     "text": [
      "100%|██████████| 79/79 [00:39<00:00,  1.44it/s]\n",
      "100%|██████████| 79/79 [06:02<00:00,  8.24s/it]\n"
     ]
    }
   ],
   "source": [
    "urls = getLinks('https://www.via-ev.de/')\n",
    "dfs.append(testLinks(urls, 'VIA'))"
   ]
  },
  {
   "cell_type": "code",
   "execution_count": 8,
   "metadata": {},
   "outputs": [
    {
     "name": "stderr",
     "output_type": "stream",
     "text": [
      "100%|██████████| 100/100 [00:53<00:00,  2.00it/s]\n",
      "100%|██████████| 100/100 [13:56<00:00,  8.74s/it]\n"
     ]
    }
   ],
   "source": [
    "urls = getLinks('https://www.zeit.de/index')\n",
    "dfs.append(testLinks(urls, 'Zeit'))"
   ]
  },
  {
   "cell_type": "code",
   "execution_count": 9,
   "metadata": {},
   "outputs": [
    {
     "name": "stderr",
     "output_type": "stream",
     "text": [
      "100%|██████████| 83/83 [00:47<00:00,  3.47it/s]\n",
      "100%|██████████| 83/83 [07:41<00:00,  4.15s/it]\n"
     ]
    }
   ],
   "source": [
    "urls = getLinks('http://www.tagesschau.de/')\n",
    "dfs.append(testLinks(urls, 'Tagesschau'))"
   ]
  },
  {
   "cell_type": "code",
   "execution_count": 10,
   "metadata": {},
   "outputs": [
    {
     "name": "stderr",
     "output_type": "stream",
     "text": [
      "100%|██████████| 100/100 [00:57<00:00,  2.71it/s]\n",
      "100%|██████████| 100/100 [18:08<00:00,  7.05s/it]\n"
     ]
    }
   ],
   "source": [
    "urls = getLinks('http://www.spiegel.de/')\n",
    "dfs.append(testLinks(urls, 'Spiegel'))"
   ]
  },
  {
   "cell_type": "code",
   "execution_count": 11,
   "metadata": {},
   "outputs": [
    {
     "data": {
      "text/html": [
       "<div>\n",
       "<style>\n",
       "    .dataframe thead tr:only-child th {\n",
       "        text-align: right;\n",
       "    }\n",
       "\n",
       "    .dataframe thead th {\n",
       "        text-align: left;\n",
       "    }\n",
       "\n",
       "    .dataframe tbody tr th {\n",
       "        vertical-align: top;\n",
       "    }\n",
       "</style>\n",
       "<table border=\"1\" class=\"dataframe\">\n",
       "  <thead>\n",
       "    <tr style=\"text-align: right;\">\n",
       "      <th></th>\n",
       "      <th>Duration</th>\n",
       "      <th>Package</th>\n",
       "      <th>Page</th>\n",
       "      <th>Page_Count</th>\n",
       "      <th>Average_Duration</th>\n",
       "    </tr>\n",
       "  </thead>\n",
       "  <tbody>\n",
       "    <tr>\n",
       "      <th>0</th>\n",
       "      <td>21.001731</td>\n",
       "      <td>requests</td>\n",
       "      <td>Wikipedia</td>\n",
       "      <td>100</td>\n",
       "      <td>0.210017</td>\n",
       "    </tr>\n",
       "    <tr>\n",
       "      <th>1</th>\n",
       "      <td>188.358156</td>\n",
       "      <td>selenium</td>\n",
       "      <td>Wikipedia</td>\n",
       "      <td>100</td>\n",
       "      <td>1.883582</td>\n",
       "    </tr>\n",
       "    <tr>\n",
       "      <th>0</th>\n",
       "      <td>39.097849</td>\n",
       "      <td>requests</td>\n",
       "      <td>VIA</td>\n",
       "      <td>79</td>\n",
       "      <td>0.494909</td>\n",
       "    </tr>\n",
       "    <tr>\n",
       "      <th>1</th>\n",
       "      <td>374.363826</td>\n",
       "      <td>selenium</td>\n",
       "      <td>VIA</td>\n",
       "      <td>79</td>\n",
       "      <td>4.738783</td>\n",
       "    </tr>\n",
       "    <tr>\n",
       "      <th>0</th>\n",
       "      <td>53.280776</td>\n",
       "      <td>requests</td>\n",
       "      <td>Zeit</td>\n",
       "      <td>100</td>\n",
       "      <td>0.532808</td>\n",
       "    </tr>\n",
       "  </tbody>\n",
       "</table>\n",
       "</div>"
      ],
      "text/plain": [
       "     Duration   Package       Page  Page_Count  Average_Duration\n",
       "0   21.001731  requests  Wikipedia         100          0.210017\n",
       "1  188.358156  selenium  Wikipedia         100          1.883582\n",
       "0   39.097849  requests        VIA          79          0.494909\n",
       "1  374.363826  selenium        VIA          79          4.738783\n",
       "0   53.280776  requests       Zeit         100          0.532808"
      ]
     },
     "execution_count": 11,
     "metadata": {},
     "output_type": "execute_result"
    }
   ],
   "source": [
    "df = pd.concat(dfs)\n",
    "df['Average_Duration'] = df['Duration']/df['Page_Count']\n",
    "df.to_csv('build/Requests_vs_Selenium.csv', index=False)\n",
    "df.head()"
   ]
  },
  {
   "cell_type": "code",
   "execution_count": 12,
   "metadata": {
    "collapsed": true
   },
   "outputs": [],
   "source": [
    "df = pd.read_csv('build/Requests_vs_Selenium.csv')"
   ]
  },
  {
   "cell_type": "markdown",
   "metadata": {},
   "source": [
    "# How do the loading times of requests and selenium differ?"
   ]
  },
  {
   "cell_type": "code",
   "execution_count": 13,
   "metadata": {},
   "outputs": [
    {
     "data": {
      "image/png": "[encoded data removed]",
      "text/plain": [
       "<matplotlib.figure.Figure at 0x7f99fded5860>"
      ]
     },
     "metadata": {},
     "output_type": "display_data"
    }
   ],
   "source": [
    "df[['Package', 'Page', 'Average_Duration']].pivot(index='Page', columns='Package', values='Average_Duration').sort_values(by='requests').plot(kind='bar')\n",
    "plt.title(\"Mean loadingtimes of single websites with 'requests' and 'selenium'\")\n",
    "plt.xlabel('Website')\n",
    "plt.ylabel('Loadingtime per page [s]')\n",
    "plt.xticks(rotation=15)\n",
    "plt.tight_layout()\n",
    "plt.savefig('build/Requests_vs_Selenium.pdf')\n",
    "plt.show()"
   ]
  },
  {
   "cell_type": "markdown",
   "metadata": {},
   "source": [
    "# Requests is faster than seleniu by a factor of ~10"
   ]
  },
  {
   "cell_type": "code",
   "execution_count": 14,
   "metadata": {},
   "outputs": [
    {
     "data": {
      "text/html": [
       "<div>\n",
       "<style>\n",
       "    .dataframe thead tr:only-child th {\n",
       "        text-align: right;\n",
       "    }\n",
       "\n",
       "    .dataframe thead th {\n",
       "        text-align: left;\n",
       "    }\n",
       "\n",
       "    .dataframe tbody tr th {\n",
       "        vertical-align: top;\n",
       "    }\n",
       "</style>\n",
       "<table border=\"1\" class=\"dataframe\">\n",
       "  <thead>\n",
       "    <tr style=\"text-align: right;\">\n",
       "      <th></th>\n",
       "      <th>Average_Duration</th>\n",
       "    </tr>\n",
       "    <tr>\n",
       "      <th>Package</th>\n",
       "      <th></th>\n",
       "    </tr>\n",
       "  </thead>\n",
       "  <tbody>\n",
       "    <tr>\n",
       "      <th>requests</th>\n",
       "      <td>0.476838</td>\n",
       "    </tr>\n",
       "    <tr>\n",
       "      <th>selenium</th>\n",
       "      <td>6.361523</td>\n",
       "    </tr>\n",
       "  </tbody>\n",
       "</table>\n",
       "</div>"
      ],
      "text/plain": [
       "          Average_Duration\n",
       "Package                   \n",
       "requests          0.476838\n",
       "selenium          6.361523"
      ]
     },
     "execution_count": 14,
     "metadata": {},
     "output_type": "execute_result"
    }
   ],
   "source": [
    "df.groupby('Package').agg({'Average_Duration':'mean'})"
   ]
  },
  {
   "cell_type": "code",
   "execution_count": null,
   "metadata": {
    "collapsed": true
   },
   "outputs": [],
   "source": []
  }
 ],
 "metadata": {
  "kernelspec": {
   "display_name": "Python 3",
   "language": "python",
   "name": "python3"
  },
  "language_info": {
   "codemirror_mode": {
    "name": "ipython",
    "version": 3
   },
   "file_extension": ".py",
   "mimetype": "text/x-python",
   "name": "python",
   "nbconvert_exporter": "python",
   "pygments_lexer": "ipython3",
   "version": "3.6.1"
  }
 },
 "nbformat": 4,
 "nbformat_minor": 2
}
